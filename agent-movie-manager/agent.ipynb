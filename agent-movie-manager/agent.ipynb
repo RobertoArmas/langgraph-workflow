{
 "cells": [
  {
   "cell_type": "markdown",
   "id": "101b7ae4",
   "metadata": {},
   "source": [
    "## Agent Movie Manager\n",
    "\n",
    "This notebook demonstrates a simple Retrieval-Augmented Generation (RAG) proof of concept using LangGraph. It showcases how to build an agent that can interact with a movie database, leveraging LLMs and tool integration. The workflow is designed for easy experimentation and visualization in LangGraph Studio, making it ideal for demonstrations and rapid prototyping."
   ]
  },
  {
   "cell_type": "markdown",
   "id": "93b23a0f",
   "metadata": {},
   "source": [
    "Load environment variables follow use .env.example as reference"
   ]
  },
  {
   "cell_type": "code",
   "execution_count": 50,
   "id": "af784fd5",
   "metadata": {},
   "outputs": [
    {
     "data": {
      "text/plain": [
       "True"
      ]
     },
     "execution_count": 50,
     "metadata": {},
     "output_type": "execute_result"
    }
   ],
   "source": [
    "import dotenv\n",
    "dotenv.load_dotenv()"
   ]
  },
  {
   "cell_type": "markdown",
   "id": "32710924",
   "metadata": {},
   "source": [
    "### Tool list_movies\n",
    "\n",
    "The `list_movies` tool retrieves all movies stored in the database. It uses the `MovieRepository` to access and return a list of `Movie` objects, each representing a movie entry with its details (such as name, release year, rating, IMAX availability, and price)."
   ]
  },
  {
   "cell_type": "code",
   "execution_count": 51,
   "id": "0ce335f9",
   "metadata": {},
   "outputs": [],
   "source": [
    "from langchain_openai import ChatOpenAI\n",
    "from common.models.movie import Movie\n",
    "from common.repositories.movie_repository import MovieRepository\n",
    "\n",
    "def list_movies() -> list[Movie]:\n",
    "    \"\"\"List all movies in the database.\"\"\"\n",
    "    repository = MovieRepository()\n",
    "    movies = repository.all()\n",
    "    return movies\n",
    "\n",
    "tools = [list_movies]"
   ]
  },
  {
   "cell_type": "markdown",
   "id": "559c6506",
   "metadata": {},
   "source": [
    "\n",
    "### Initialize LLM and Bind Tools\n",
    "\n",
    "We initialize the `ChatOpenAI` language model with the desired configuration and bind the available tools (such as `list_movies`) to the model. This enables the LLM to invoke these tools during conversation.\n",
    "\n",
    "```python\n",
    "llm = ChatOpenAI(\n",
    "    model=\"gpt-4o\",\n",
    ")\n",
    "\n",
    "llm_with_tools = llm.bind_tools(tools)\n",
    "```"
   ]
  },
  {
   "cell_type": "code",
   "execution_count": 52,
   "id": "c2a91fc6",
   "metadata": {},
   "outputs": [],
   "source": [
    "llm = ChatOpenAI(\n",
    "    model=\"gpt-4o\",\n",
    ")\n",
    "\n",
    "llm_with_tools = llm.bind_tools(tools)"
   ]
  },
  {
   "cell_type": "markdown",
   "id": "434ca013",
   "metadata": {},
   "source": [
    "### Assistant Node Implementation\n",
    "\n",
    "The assistant node is responsible for generating responses using the language model and invoking tools when necessary. It takes the current conversation state, prepends a system message to guide the assistant's behavior, and passes the messages to the language model with tool bindings. The output is a dictionary containing the updated list of messages.\n",
    "\n",
    "- **Input:** `state` (current conversation state containing messages)\n",
    "- **Process:** Adds a system prompt, invokes the LLM with tool support\n",
    "- **Output:** Updated messages, including the assistant's response or tool call\n",
    "\n",
    "This design enables the assistant to flexibly respond to user queries and utilize available tools as needed."
   ]
  },
  {
   "cell_type": "code",
   "execution_count": 53,
   "id": "a124251d",
   "metadata": {},
   "outputs": [],
   "source": [
    "from langgraph.graph import MessagesState\n",
    "from langchain_core.messages import HumanMessage, SystemMessage\n",
    "\n",
    "sys_msg = SystemMessage(\n",
    "    content=\"You are a helpful assistant that can list movies from the database.\"\n",
    ")\n",
    "\n",
    "def assistant(state: MessagesState):\n",
    "    return { \"messages\": [llm_with_tools.invoke([sys_msg] + state[\"messages\"])]}\n",
    "\n"
   ]
  },
  {
   "cell_type": "markdown",
   "id": "4b30302a",
   "metadata": {},
   "source": [
    "## Build Graph\n",
    "\n",
    "This section constructs the conversational workflow using LangGraph's stateful graph API. The graph orchestrates the interaction between the assistant (LLM) and available tools, enabling dynamic tool invocation based on user input.\n",
    "\n",
    "- **Nodes:**  \n",
    "    - `assistant`: Handles user queries, generates responses, and determines if a tool should be called.\n",
    "    - `tools`: Executes tool functions (e.g., `list_movies`) when requested by the assistant.\n",
    "\n",
    "- **Edges:**  \n",
    "    - The graph starts at the `assistant` node.\n",
    "    - If the assistant's response includes a tool call, control flows to the `tools` node; otherwise, the conversation ends.\n",
    "    - After tool execution, control returns to the `assistant` node for further processing.\n",
    "\n",
    "- **Visualization:**  \n",
    "    The graph structure is visualized using Mermaid, providing a clear overview of the workflow.\n",
    "\n",
    "This modular design allows for easy extension with additional tools or logic, supporting flexible and interactive agent behaviors."
   ]
  },
  {
   "cell_type": "code",
   "execution_count": 54,
   "id": "7cfbcd8b",
   "metadata": {},
   "outputs": [
    {
     "data": {
      "image/png": "[encoded data removed]",
      "text/plain": [
       "<IPython.core.display.Image object>"
      ]
     },
     "metadata": {},
     "output_type": "display_data"
    }
   ],
   "source": [
    "from langgraph.graph import START, StateGraph\n",
    "from langgraph.prebuilt import tools_condition\n",
    "from langgraph.prebuilt import ToolNode\n",
    "from IPython.display import Image, display\n",
    "\n",
    "# Graph\n",
    "builder = StateGraph(MessagesState)\n",
    "\n",
    "# Define nodes: these do the work\n",
    "builder.add_node(\"assistant\", assistant)\n",
    "builder.add_node(\"tools\", ToolNode(tools))\n",
    "\n",
    "# Define edges: these determine how the control flow moves\n",
    "builder.add_edge(START, \"assistant\")\n",
    "builder.add_conditional_edges(\n",
    "    \"assistant\",\n",
    "    # If the latest message (result) from assistant is a tool call -> tools_condition routes to tools\n",
    "    # If the latest message (result) from assistant is a not a tool call -> tools_condition routes to END\n",
    "    tools_condition,\n",
    ")\n",
    "builder.add_edge(\"tools\", \"assistant\")\n",
    "react_graph = builder.compile()\n",
    "\n",
    "# Show\n",
    "display(Image(react_graph.get_graph(xray=True).draw_mermaid_png()))"
   ]
  },
  {
   "cell_type": "code",
   "execution_count": 55,
   "id": "4c5bc7a2",
   "metadata": {},
   "outputs": [],
   "source": [
    "messages = [HumanMessage(content=\"List all movies in the database.\")]\n",
    "messages = react_graph.invoke({\"messages\": messages}) # type: ignore"
   ]
  },
  {
   "cell_type": "code",
   "execution_count": 56,
   "id": "2ad18bdb",
   "metadata": {},
   "outputs": [
    {
     "name": "stdout",
     "output_type": "stream",
     "text": [
      "================================\u001b[1m Human Message \u001b[0m=================================\n",
      "\n",
      "List all movies in the database.\n",
      "==================================\u001b[1m Ai Message \u001b[0m==================================\n",
      "Tool Calls:\n",
      "  list_movies (call_GtLdz0ABoOc0Z6Fiwaw770tz)\n",
      " Call ID: call_GtLdz0ABoOc0Z6Fiwaw770tz\n",
      "  Args:\n",
      "=================================\u001b[1m Tool Message \u001b[0m=================================\n",
      "Name: list_movies\n",
      "\n",
      "[<Movie(id=1, name=Consumer staff begin, description=Police nation shake market race. Interview natural moment college meet partner.\n",
      "Sound experience benefit. Real give consider full wall own. Tough central another kitchen., release_year=1996, rating=4.1, is_imax=False, price=15.57, created_at=2025-08-07 13:48:23)>, <Movie(id=2, name=Deal consumer owner, description=Right each pay series position sort newspaper option. Management evening agree member without not.\n",
      "Arm act fly bring east his woman structure. Budget century skill must lot., release_year=2016, rating=8.4, is_imax=True, price=14.29, created_at=2025-08-07 13:48:23)>, <Movie(id=3, name=Family commercial way throughout, description=Respond trial economy indeed. Sit campaign international create. Off arm plant environmental indeed.\n",
      "She learn idea listen own meeting key. Apply say a especially., release_year=2002, rating=8.3, is_imax=True, price=6.24, created_at=2025-08-07 13:48:23)>, <Movie(id=4, name=Myself central together method, description=Like body rise travel. Office buy ten student authority street. Research already behind., release_year=2024, rating=9.6, is_imax=False, price=15.68, created_at=2025-08-07 13:48:23)>, <Movie(id=5, name=Program guess, description=Especially be stand science. Body the be. Read father race senior our court thus.\n",
      "No certainly set staff. Close war deep present carry perform try., release_year=1990, rating=3.0, is_imax=True, price=5.46, created_at=2025-08-07 13:48:23)>, <Movie(id=6, name=Meeting military food, description=Many wife weight. Bank institution church ever. Apply lose begin green agree., release_year=1986, rating=1.1, is_imax=True, price=17.73, created_at=2025-08-07 13:48:23)>, <Movie(id=7, name=School add, description=Because memory face pull especially top. Scene analysis local coach sense.\n",
      "Officer finish even experience. Street current become sit responsibility daughter. Rise culture recognize finally., release_year=2004, rating=4.3, is_imax=False, price=10.09, created_at=2025-08-07 13:48:23)>, <Movie(id=8, name=Himself we, description=Smile direction again for cover. Data window drop pay. Century air week environment hair., release_year=2018, rating=3.0, is_imax=True, price=9.9, created_at=2025-08-07 13:48:23)>, <Movie(id=9, name=View former, description=Training deep late off memory certain. National pattern manager wrong off PM suddenly.\n",
      "Window miss fight something lot Republican. Until step various discuss. Sea future remain these., release_year=2000, rating=9.3, is_imax=False, price=14.27, created_at=2025-08-07 13:48:23)>, <Movie(id=11, name=Piratas del Caribe: La maldición del Perla Negra, description=Piratas del Caribe: La maldición del Perla Negra es una película de aventuras del 2003 dirigida por Gore Verbinski. Sigue las aventuras del capitán pirata Jack Sparrow mientras intenta recu..., release_year=2003, rating=10.0, is_imax=False, price=8.0, created_at=2025-08-07 13:48:51)>, <Movie(id=19, name=Harry Potter y la Cámara de los Secretos, description=Harry regresa a Hogwarts para su segundo año. Extraños sucesos comienzan cuando estudiantes son encontrados petrificados. Harry y sus amigos investigan para descubrir la Cámara de los Secretos., release_year=2002, rating=8.5, is_imax=False, price=5.0, created_at=2025-08-07 19:13:58)>, <Movie(id=20, name=Deadpool, description=Deadpool es una película de superhéroes del 2016 protagonizada por Ryan Reynolds. Sigue a Wade Wilson, un mercenario que adquiere habilidades de curación acelerada tras un experimento, embarcándose en una búsqueda de venganza con un estilo humorístico., release_year=2016, rating=8.0, is_imax=False, price=2.0, created_at=2025-08-08 00:20:39)>]\n",
      "==================================\u001b[1m Ai Message \u001b[0m==================================\n",
      "\n",
      "Here are the movies currently available in the database:\n",
      "\n",
      "1. **Consumer staff begin**\n",
      "   - Description: Police nation shake market race. Interview natural moment college meet partner. Sound experience benefit. Real give consider full wall own. Tough central another kitchen.\n",
      "   - Release Year: 1996\n",
      "   - Rating: 4.1\n",
      "   - IMAX: No\n",
      "   - Price: $15.57\n",
      "\n",
      "2. **Deal consumer owner**\n",
      "   - Description: Right each pay series position sort newspaper option. Management evening agree member without not. Arm act fly bring east his woman structure. Budget century skill must lot.\n",
      "   - Release Year: 2016\n",
      "   - Rating: 8.4\n",
      "   - IMAX: Yes\n",
      "   - Price: $14.29\n",
      "\n",
      "3. **Family commercial way throughout**\n",
      "   - Description: Respond trial economy indeed. Sit campaign international create. Off arm plant environmental indeed. She learn idea listen own meeting key. Apply say a especially.\n",
      "   - Release Year: 2002\n",
      "   - Rating: 8.3\n",
      "   - IMAX: Yes\n",
      "   - Price: $6.24\n",
      "\n",
      "4. **Myself central together method**\n",
      "   - Description: Like body rise travel. Office buy ten student authority street. Research already behind.\n",
      "   - Release Year: 2024\n",
      "   - Rating: 9.6\n",
      "   - IMAX: No\n",
      "   - Price: $15.68\n",
      "\n",
      "5. **Program guess**\n",
      "   - Description: Especially be stand science. Body the be. Read father race senior our court thus. No certainly set staff. Close war deep present carry perform try.\n",
      "   - Release Year: 1990\n",
      "   - Rating: 3.0\n",
      "   - IMAX: Yes\n",
      "   - Price: $5.46\n",
      "\n",
      "6. **Meeting military food**\n",
      "   - Description: Many wife weight. Bank institution church ever. Apply lose begin green agree.\n",
      "   - Release Year: 1986\n",
      "   - Rating: 1.1\n",
      "   - IMAX: Yes\n",
      "   - Price: $17.73\n",
      "\n",
      "7. **School add**\n",
      "   - Description: Because memory face pull especially top. Scene analysis local coach sense. Officer finish even experience. Street current become sit responsibility daughter. Rise culture recognize finally.\n",
      "   - Release Year: 2004\n",
      "   - Rating: 4.3\n",
      "   - IMAX: No\n",
      "   - Price: $10.09\n",
      "\n",
      "8. **Himself we**\n",
      "   - Description: Smile direction again for cover. Data window drop pay. Century air week environment hair.\n",
      "   - Release Year: 2018\n",
      "   - Rating: 3.0\n",
      "   - IMAX: Yes\n",
      "   - Price: $9.9\n",
      "\n",
      "9. **View former**\n",
      "   - Description: Training deep late off memory certain. National pattern manager wrong off PM suddenly. Window miss fight something lot Republican. Until step various discuss. Sea future remain these.\n",
      "   - Release Year: 2000\n",
      "   - Rating: 9.3\n",
      "   - IMAX: No\n",
      "   - Price: $14.27\n",
      "\n",
      "10. **Piratas del Caribe: La maldición del Perla Negra**\n",
      "    - Description: An exciting adventure following pirate captain Jack Sparrow in his quest against a cursed crew.\n",
      "    - Release Year: 2003\n",
      "    - Rating: 10.0\n",
      "    - IMAX: No\n",
      "    - Price: $8.0\n",
      "\n",
      "11. **Harry Potter y la Cámara de los Secretos**\n",
      "    - Description: Harry returns to Hogwarts for his second year and discovers secrets in the dark corridors.\n",
      "    - Release Year: 2002\n",
      "    - Rating: 8.5\n",
      "    - IMAX: No\n",
      "    - Price: $5.0\n",
      "\n",
      "12. **Deadpool**\n",
      "    - Description: A superhero film about a mercenary named Wade Wilson who turns into Deadpool after obtaining extraordinary healing abilities.\n",
      "    - Release Year: 2016\n",
      "    - Rating: 8.0\n",
      "    - IMAX: No\n",
      "    - Price: $2.0\n",
      "\n",
      "If you need more detailed information about any specific movie, feel free to ask!\n"
     ]
    }
   ],
   "source": [
    "for m in messages['messages']:\n",
    "    m.pretty_print()"
   ]
  }
 ],
 "metadata": {
  "kernelspec": {
   "display_name": "langgraph-workflow",
   "language": "python",
   "name": "python3"
  },
  "language_info": {
   "codemirror_mode": {
    "name": "ipython",
    "version": 3
   },
   "file_extension": ".py",
   "mimetype": "text/x-python",
   "name": "python",
   "nbconvert_exporter": "python",
   "pygments_lexer": "ipython3",
   "version": "3.11.12"
  }
 },
 "nbformat": 4,
 "nbformat_minor": 5
}
